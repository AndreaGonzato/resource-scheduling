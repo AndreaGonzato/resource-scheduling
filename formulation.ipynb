{
 "cells": [
  {
   "cell_type": "code",
   "execution_count": 5,
   "id": "initial_id",
   "metadata": {
    "collapsed": true,
    "ExecuteTime": {
     "end_time": "2024-01-18T09:29:09.310829794Z",
     "start_time": "2024-01-18T09:29:09.263301197Z"
    }
   },
   "outputs": [],
   "source": [
    "import gurobipy as gb\n",
    "\n",
    "import pandas as pd\n",
    "\n",
    "from Project import Project\n",
    "from Resource import Resource\n",
    "from data_generator import *"
   ]
  },
  {
   "cell_type": "code",
   "outputs": [
    {
     "name": "stdout",
     "output_type": "stream",
     "text": [
      "assignation resource (row) x projects (col)\n",
      "    0   1   2   3   4   5   6   7   8   9   10  11\n",
      "0    1   0   1   1   0   0   0   1   0   0   1   1\n",
      "1    0   1   1   1   1   0   1   1   1   0   0   1\n",
      "2    0   0   1   1   1   1   1   1   1   0   0   0\n",
      "3    0   1   0   1   1   1   0   1   0   1   0   1\n",
      "4    0   0   0   0   1   0   0   1   1   0   1   0\n",
      "5    1   1   1   1   0   0   0   0   0   1   0   0\n",
      "6    0   1   0   0   1   1   1   0   1   1   1   0\n",
      "7    0   0   0   0   1   1   0   0   0   1   0   0\n",
      "8    1   0   0   1   1   1   0   0   1   1   1   0\n",
      "9    0   1   0   1   1   0   0   0   0   0   1   0\n",
      "10   0   1   0   1   0   1   0   0   1   0   0   1\n",
      "11   0   0   1   1   1   1   0   1   1   1   1   1\n",
      "max_total_allocation 240\n",
      "requested_slots_per_project:  [15, 13, 11, 9, 10, 12, 9, 11, 14, 12, 15, 14] sum:  145\n"
     ]
    }
   ],
   "source": [
    "#data\n",
    "days = 5\n",
    "slots_per_day = 4\n",
    "nb_resources = 12\n",
    "nb_projects = 12\n",
    "\n",
    "squash_factor= 1 # value that indicate how much to squash the planning of the project. It need to be >= 1\n",
    "\n",
    "# calculate data\n",
    "total_time_slots = days * slots_per_day\n",
    "BIG_M = max(2*total_time_slots, 99)\n",
    "\n",
    "\n",
    "# create all the resources\n",
    "resources:List[Resource] = []\n",
    "for r in range(nb_resources):\n",
    "    resources.append(Resource(r))\n",
    "\n",
    "#create assignation matrix resources x projects\n",
    "assignation = generate_random_assignation_matrix(nb_resources, nb_projects)\n",
    "assignation_df = pd.DataFrame(assignation)\n",
    "print(\"assignation resource (row) x projects (col)\")\n",
    "print(assignation_df)\n",
    "\n",
    "#calculate max allocation\n",
    "max_total_allocation = total_time_slots * nb_resources\n",
    "print(\"max_total_allocation\", max_total_allocation)\n",
    "\n",
    "# create project request\n",
    "requested_slots_per_project = generate_random_requested_slots_per_project(nb_projects, max_total_allocation)\n",
    "print(\"requested_slots_per_project: \", requested_slots_per_project, \"sum: \", sum(requested_slots_per_project))\n",
    "\n",
    "\n",
    "#create projects\n",
    "projects: List[Project] = []\n",
    "for p in range(nb_projects):\n",
    "    column_assignation = assignation[:, p]\n",
    "    assigned_resources_indices = np.where(column_assignation == 1)[0]\n",
    "    assigned_resources = [resources[i] for i in assigned_resources_indices]\n",
    "    projects.append(Project(p, requested_slots_per_project[p], assigned_resources))"
   ],
   "metadata": {
    "collapsed": false,
    "ExecuteTime": {
     "end_time": "2024-01-18T10:11:01.099991519Z",
     "start_time": "2024-01-18T10:11:01.045401634Z"
    }
   },
   "id": "741d0d76807d0fb0",
   "execution_count": 17
  },
  {
   "cell_type": "code",
   "outputs": [
    {
     "name": "stdout",
     "output_type": "stream",
     "text": [
      "Set parameter Username\n",
      "Academic license - for non-commercial use only - expires 2025-01-10\n"
     ]
    }
   ],
   "source": [
    "env = gb.Env(empty=True)\n",
    "env.setParam(\"OutputFlag\", 0)\n",
    "env.start()\n",
    "\n",
    "model = gb.Model()\n",
    "\n",
    "model.modelSense = gb.GRB.MINIMIZE  #declare minimization"
   ],
   "metadata": {
    "collapsed": false,
    "ExecuteTime": {
     "end_time": "2024-01-18T09:29:51.437719301Z",
     "start_time": "2024-01-18T09:29:51.366954205Z"
    }
   },
   "id": "fdd91ea4d7d41fbf",
   "execution_count": 7
  },
  {
   "cell_type": "code",
   "outputs": [],
   "source": [
    "# variables definition\n",
    "\n",
    "X = {}\n",
    "for p in range(nb_projects):\n",
    "    for r in range(nb_resources):\n",
    "        for t in range(total_time_slots):\n",
    "            X[(p, r, t)] = model.addVar(vtype=gb.GRB.BINARY, name=f\"X_p{p}_r{r}_t{t}\")\n",
    "S = {}\n",
    "F = {}\n",
    "for p in range(nb_projects):\n",
    "    S[(p)] = model.addVar(vtype=gb.GRB.INTEGER, lb=0, ub=total_time_slots, name=f\"S_p{p}\")\n",
    "    F[(p)] = model.addVar(vtype=gb.GRB.INTEGER, lb=0, ub=total_time_slots, name=f\"F_p{p}\")\n",
    "\n",
    "\n",
    "Y = model.addVar(vtype=gb.GRB.INTEGER, lb=0, ub=total_time_slots, name=f\"Y\")\n",
    "\n",
    "for v in model.getVars():\n",
    "    print(v.varName)"
   ],
   "metadata": {
    "collapsed": false,
    "ExecuteTime": {
     "end_time": "2024-01-18T09:29:52.660883233Z",
     "start_time": "2024-01-18T09:29:52.652385474Z"
    }
   },
   "id": "1c2cbbf88826a078",
   "execution_count": 8
  },
  {
   "cell_type": "code",
   "outputs": [],
   "source": [
    "# constraint 1\n",
    "# Define constraint: Total working time for each project respect the request\n",
    "for p in range(nb_projects):\n",
    "    model.addConstr(sum(X[(p, r, t)] for r in range(nb_resources) for t in range(total_time_slots)) == projects[p].requested_slots)\n",
    "\n",
    "# constraint 2\n",
    "for p in range(nb_projects):\n",
    "    for r in range(nb_resources):\n",
    "        for t in range(total_time_slots):\n",
    "            model.addConstr(t * X[(p, r, t)] <= F[p])\n",
    "\n",
    "# constraint 3\n",
    "for p in range(nb_projects):\n",
    "    for r in range(nb_resources):\n",
    "        for t in range(total_time_slots):\n",
    "            model.addConstr(S[p] <= t*X[(p, r, t)]+(1-X[(p, r, t)])*BIG_M)\n",
    "\n",
    "# constraint 4\n",
    "# constraint assign lower bound of y\n",
    "for p in range(nb_projects):\n",
    "    model.addConstr(F[p] <= Y)\n",
    "\n",
    "# constraint 5\n",
    "for p in range(nb_projects):\n",
    "    model.addConstr(F[p]-S[p]+1 <= projects[p].requested_slots*squash_factor)\n",
    "\n",
    "# constraint 6\n",
    "# constraints no double booking\n",
    "for r in range(nb_resources):\n",
    "    for t in range(total_time_slots):\n",
    "        model.addConstr(sum(X[(p, r, t)] for p in range(nb_projects)) <= 1)\n",
    "\n",
    "# constraint 7\n",
    "# on each project only some resources can work on it\n",
    "for project in projects:\n",
    "    for resource in resources:\n",
    "        if(not project.is_resource_assigned(resource)):\n",
    "            for t in range(total_time_slots):\n",
    "                model.addConstr(X[project.id, resource.id, t] == 0)"
   ],
   "metadata": {
    "collapsed": false,
    "ExecuteTime": {
     "end_time": "2024-01-18T09:29:53.452234627Z",
     "start_time": "2024-01-18T09:29:53.329004481Z"
    }
   },
   "id": "e40930cd5c5e5859",
   "execution_count": 9
  },
  {
   "cell_type": "code",
   "outputs": [],
   "source": [
    "model.setObjective(Y, gb.GRB.MINIMIZE)"
   ],
   "metadata": {
    "collapsed": false,
    "ExecuteTime": {
     "end_time": "2024-01-18T09:29:54.268809096Z",
     "start_time": "2024-01-18T09:29:54.250314251Z"
    }
   },
   "id": "33b4595327135912",
   "execution_count": 10
  },
  {
   "cell_type": "code",
   "outputs": [
    {
     "name": "stdout",
     "output_type": "stream",
     "text": [
      "Variables:  0\n",
      "Constraints:  0\n"
     ]
    }
   ],
   "source": [
    "print(\"Variables: \",model.NumVars)\n",
    "print(\"Constraints: \",model.NumConstrs)"
   ],
   "metadata": {
    "collapsed": false,
    "ExecuteTime": {
     "end_time": "2024-01-18T09:29:55.641843224Z",
     "start_time": "2024-01-18T09:29:55.576418682Z"
    }
   },
   "id": "1656b294b8227ddc",
   "execution_count": 11
  },
  {
   "cell_type": "code",
   "outputs": [
    {
     "name": "stdout",
     "output_type": "stream",
     "text": [
      "Gurobi Optimizer version 11.0.0 build v11.0.0rc2 (linux64 - \"Ubuntu 22.04.3 LTS\")\n",
      "\n",
      "CPU model: Intel(R) Core(TM) i7-7500U CPU @ 2.70GHz, instruction set [SSE2|AVX|AVX2]\n",
      "Thread count: 2 physical cores, 4 logical processors, using up to 4 threads\n",
      "\n",
      "Optimize a model with 3110 rows, 1221 columns and 7740 nonzeros\n",
      "Model fingerprint: 0xe80b95fa\n",
      "Variable types: 0 continuous, 1221 integer (1200 binary)\n",
      "Coefficient statistics:\n",
      "  Matrix range     [1e+00, 1e+02]\n",
      "  Objective range  [1e+00, 1e+00]\n",
      "  Bounds range     [1e+00, 2e+01]\n",
      "  RHS range        [1e+00, 1e+02]\n",
      "Presolve removed 1950 rows and 560 columns\n",
      "Presolve time: 0.05s\n",
      "Presolved: 1160 rows, 661 columns, 3340 nonzeros\n",
      "Variable types: 0 continuous, 661 integer (640 binary)\n",
      "\n",
      "Root relaxation: objective 1.570019e+00, 666 iterations, 0.02 seconds (0.01 work units)\n",
      "\n",
      "    Nodes    |    Current Node    |     Objective Bounds      |     Work\n",
      " Expl Unexpl |  Obj  Depth IntInf | Incumbent    BestBd   Gap | It/Node Time\n",
      "\n",
      "     0     0    1.57002    0  331          -    1.57002      -     -    0s\n",
      "H    0     0                      12.0000000    1.57002  86.9%     -    0s\n",
      "     0     0 infeasible    0        12.00000   12.00000  0.00%     -    0s\n",
      "\n",
      "Cutting planes:\n",
      "  Learned: 206\n",
      "  Gomory: 92\n",
      "  Cover: 3\n",
      "  Clique: 36\n",
      "  Zero half: 13\n",
      "  RLT: 14\n",
      "  BQP: 17\n",
      "\n",
      "Explored 1 nodes (1955 simplex iterations) in 0.30 seconds (0.09 work units)\n",
      "Thread count was 4 (of 4 available processors)\n",
      "\n",
      "Solution count 1: 12 \n",
      "\n",
      "Optimal solution found (tolerance 1.00e-04)\n",
      "Best objective 1.200000000000e+01, best bound 1.200000000000e+01, gap 0.0000%\n"
     ]
    }
   ],
   "source": [
    "model.optimize()"
   ],
   "metadata": {
    "collapsed": false,
    "ExecuteTime": {
     "end_time": "2024-01-18T09:29:57.142323933Z",
     "start_time": "2024-01-18T09:29:56.793869920Z"
    }
   },
   "id": "dd40e0f420557548",
   "execution_count": 12
  },
  {
   "cell_type": "code",
   "outputs": [
    {
     "name": "stdout",
     "output_type": "stream",
     "text": [
      "project 0 : S 0.0  F: 7.0\n",
      "project 1 : S 6.0  F: 12.0\n",
      "project 2 : S 1.0  F: 11.0\n",
      "project 3 : S 0.0  F: 8.0\n",
      "project 4 : S 0.0  F: 5.0\n",
      "project 5 : S 6.0  F: 11.0\n",
      "project 6 : S 5.0  F: 10.0\n",
      "project 7 : S 6.0  F: 11.0\n",
      "project 8 : S 2.0  F: 10.0\n",
      "project 9 : S 0.0  F: 4.0\n",
      "Y = 12.0\n",
      "project:  0 resource: 0  time: 0\n",
      "project:  0 resource: 0  time: 1\n",
      "project:  0 resource: 0  time: 2\n",
      "project:  0 resource: 0  time: 3\n",
      "project:  0 resource: 0  time: 5\n",
      "project:  0 resource: 2  time: 3\n",
      "project:  0 resource: 3  time: 0\n",
      "project:  0 resource: 4  time: 7\n",
      "project:  1 resource: 1  time: 9\n",
      "project:  1 resource: 1  time: 12\n",
      "project:  1 resource: 3  time: 8\n",
      "project:  1 resource: 3  time: 10\n",
      "project:  1 resource: 3  time: 12\n",
      "project:  1 resource: 4  time: 10\n",
      "project:  1 resource: 4  time: 12\n",
      "project:  2 resource: 0  time: 9\n",
      "project:  2 resource: 0  time: 10\n",
      "project:  2 resource: 0  time: 11\n",
      "project:  2 resource: 3  time: 1\n",
      "project:  2 resource: 3  time: 5\n",
      "project:  2 resource: 3  time: 6\n",
      "project:  2 resource: 3  time: 7\n",
      "project:  2 resource: 3  time: 9\n",
      "project:  2 resource: 5  time: 1\n",
      "project:  2 resource: 5  time: 2\n",
      "project:  2 resource: 5  time: 8\n",
      "project:  3 resource: 0  time: 4\n",
      "project:  3 resource: 0  time: 6\n",
      "project:  3 resource: 2  time: 2\n",
      "project:  3 resource: 2  time: 4\n",
      "project:  3 resource: 4  time: 0\n",
      "project:  3 resource: 4  time: 1\n",
      "project:  3 resource: 4  time: 2\n",
      "project:  3 resource: 4  time: 4\n",
      "project:  3 resource: 4  time: 5\n",
      "project:  4 resource: 1  time: 0\n",
      "project:  4 resource: 1  time: 1\n",
      "project:  4 resource: 1  time: 2\n",
      "project:  4 resource: 1  time: 3\n",
      "project:  4 resource: 1  time: 4\n",
      "project:  4 resource: 1  time: 5\n",
      "project:  5 resource: 1  time: 6\n",
      "project:  5 resource: 1  time: 8\n",
      "project:  5 resource: 1  time: 11\n",
      "project:  5 resource: 4  time: 8\n",
      "project:  5 resource: 4  time: 9\n",
      "project:  5 resource: 5  time: 11\n",
      "project:  6 resource: 1  time: 7\n",
      "project:  6 resource: 2  time: 6\n",
      "project:  6 resource: 2  time: 8\n",
      "project:  6 resource: 2  time: 10\n",
      "project:  6 resource: 5  time: 9\n",
      "project:  6 resource: 5  time: 10\n",
      "project:  7 resource: 0  time: 7\n",
      "project:  7 resource: 0  time: 8\n",
      "project:  7 resource: 2  time: 11\n",
      "project:  7 resource: 3  time: 11\n",
      "project:  7 resource: 4  time: 6\n",
      "project:  7 resource: 4  time: 11\n",
      "project:  8 resource: 1  time: 10\n",
      "project:  8 resource: 2  time: 5\n",
      "project:  8 resource: 2  time: 7\n",
      "project:  8 resource: 2  time: 9\n",
      "project:  8 resource: 5  time: 3\n",
      "project:  8 resource: 5  time: 4\n",
      "project:  8 resource: 5  time: 5\n",
      "project:  8 resource: 5  time: 6\n",
      "project:  8 resource: 5  time: 7\n",
      "project:  9 resource: 2  time: 0\n",
      "project:  9 resource: 2  time: 1\n",
      "project:  9 resource: 3  time: 2\n",
      "project:  9 resource: 3  time: 3\n",
      "project:  9 resource: 3  time: 4\n"
     ]
    }
   ],
   "source": [
    "\n",
    "for p in range(nb_projects):\n",
    "    print(f\"project {p} : S\", S[p].x, \" F:\",F[p].x)\n",
    "\n",
    "print('Y =', Y.x)\n",
    "\n",
    "\n",
    "# show all the assignation\n",
    "for p in range(nb_projects):\n",
    "    for r in range(nb_resources):\n",
    "        for t in range(total_time_slots):\n",
    "            if(X[(p, r, t)].x == 1.0):\n",
    "                print(\"project: \", p, \"resource:\", r, \" time:\",t)"
   ],
   "metadata": {
    "collapsed": false,
    "ExecuteTime": {
     "end_time": "2024-01-18T09:30:01.881172334Z",
     "start_time": "2024-01-18T09:30:01.790734392Z"
    }
   },
   "id": "49a5d6473d4dbd5f",
   "execution_count": 13
  },
  {
   "cell_type": "code",
   "outputs": [
    {
     "name": "stdout",
     "output_type": "stream",
     "text": [
      "    0    1    2    3    4    5    6    7    8    9    10   11   12\n",
      "0  1.0  1.0  1.0  1.0  0.0  1.0  0.0  0.0  0.0  0.0  0.0  0.0  0.0\n",
      "1  0.0  0.0  0.0  0.0  0.0  0.0  0.0  0.0  0.0  0.0  0.0  0.0  0.0\n",
      "2  0.0  0.0  0.0  1.0  0.0  0.0  0.0  0.0  0.0  0.0  0.0  0.0  0.0\n",
      "3  1.0  0.0  0.0  0.0  0.0  0.0  0.0  0.0  0.0  0.0  0.0  0.0  0.0\n",
      "4  0.0  0.0  0.0  0.0  0.0  0.0  0.0  1.0  0.0  0.0  0.0  0.0  0.0\n",
      "5  0.0  0.0  0.0  0.0  0.0  0.0  0.0  0.0  0.0  0.0  0.0  0.0  0.0\n",
      "0  0.0  0.0  0.0  0.0  0.0  0.0  0.0  0.0  0.0  0.0  0.0  0.0  0.0\n",
      "1  0.0  0.0  0.0  0.0  0.0  0.0  0.0  0.0  0.0  1.0  0.0  0.0  1.0\n",
      "2  0.0  0.0  0.0  0.0  0.0  0.0  0.0  0.0  0.0  0.0  0.0  0.0  0.0\n",
      "3  0.0  0.0  0.0  0.0  0.0  0.0  0.0  0.0  1.0  0.0  1.0  0.0  1.0\n",
      "4  0.0  0.0  0.0  0.0  0.0  0.0  0.0  0.0  0.0  0.0  1.0  0.0  1.0\n",
      "5  0.0  0.0  0.0  0.0  0.0  0.0  0.0  0.0  0.0  0.0  0.0  0.0  0.0\n",
      "0  0.0  0.0  0.0  0.0  0.0  0.0  0.0  0.0  0.0  1.0  1.0  1.0  0.0\n",
      "1  0.0  0.0  0.0  0.0  0.0  0.0  0.0  0.0  0.0  0.0  0.0  0.0  0.0\n",
      "2  0.0  0.0  0.0  0.0  0.0  0.0  0.0  0.0  0.0  0.0  0.0  0.0  0.0\n",
      "3  0.0  1.0  0.0  0.0  0.0  1.0  1.0  1.0  0.0  1.0  0.0  0.0  0.0\n",
      "4  0.0  0.0  0.0  0.0  0.0  0.0  0.0  0.0  0.0  0.0  0.0  0.0  0.0\n",
      "5  0.0  1.0  1.0  0.0  0.0  0.0  0.0  0.0  1.0  0.0  0.0  0.0  0.0\n",
      "0  0.0  0.0  0.0  0.0  1.0  0.0  1.0  0.0  0.0  0.0  0.0  0.0  0.0\n",
      "1  0.0  0.0  0.0  0.0  0.0  0.0  0.0  0.0  0.0  0.0  0.0  0.0  0.0\n",
      "2  0.0  0.0  1.0  0.0  1.0  0.0  0.0  0.0  0.0  0.0  0.0  0.0  0.0\n",
      "3  0.0  0.0  0.0  0.0  0.0  0.0  0.0  0.0  0.0  0.0  0.0  0.0  0.0\n",
      "4  1.0  1.0  1.0  0.0  1.0  1.0  0.0  0.0  0.0  0.0  0.0  0.0  0.0\n",
      "5  0.0  0.0  0.0  0.0  0.0  0.0  0.0  0.0  0.0  0.0  0.0  0.0  0.0\n",
      "0  0.0  0.0  0.0  0.0  0.0  0.0  0.0  0.0  0.0  0.0  0.0  0.0  0.0\n",
      "1  1.0  1.0  1.0  1.0  1.0  1.0  0.0  0.0  0.0  0.0  0.0  0.0  0.0\n",
      "2  0.0  0.0  0.0  0.0  0.0  0.0  0.0  0.0  0.0  0.0  0.0  0.0  0.0\n",
      "3  0.0  0.0  0.0  0.0  0.0  0.0  0.0  0.0  0.0  0.0  0.0  0.0  0.0\n",
      "4  0.0  0.0  0.0  0.0  0.0  0.0  0.0  0.0  0.0  0.0  0.0  0.0  0.0\n",
      "5  0.0  0.0  0.0  0.0  0.0  0.0  0.0  0.0  0.0  0.0  0.0  0.0  0.0\n",
      "0  0.0  0.0  0.0  0.0  0.0  0.0  0.0  0.0  0.0  0.0  0.0  0.0  0.0\n",
      "1  0.0  0.0  0.0  0.0  0.0  0.0  1.0  0.0  1.0  0.0  0.0  1.0  0.0\n",
      "2  0.0  0.0  0.0  0.0  0.0  0.0  0.0  0.0  0.0  0.0  0.0  0.0  0.0\n",
      "3  0.0  0.0  0.0  0.0  0.0  0.0  0.0  0.0  0.0  0.0  0.0  0.0  0.0\n",
      "4  0.0  0.0  0.0  0.0  0.0  0.0  0.0  0.0  1.0  1.0  0.0  0.0  0.0\n",
      "5  0.0  0.0  0.0  0.0  0.0  0.0  0.0  0.0  0.0  0.0  0.0  1.0  0.0\n",
      "0  0.0  0.0  0.0  0.0  0.0  0.0  0.0  0.0  0.0  0.0  0.0  0.0  0.0\n",
      "1  0.0  0.0  0.0  0.0  0.0  0.0  0.0  1.0  0.0  0.0  0.0  0.0  0.0\n",
      "2  0.0  0.0  0.0  0.0  0.0  0.0  1.0  0.0  1.0  0.0  1.0  0.0  0.0\n",
      "3  0.0  0.0  0.0  0.0  0.0  0.0  0.0  0.0  0.0  0.0  0.0  0.0  0.0\n",
      "4  0.0  0.0  0.0  0.0  0.0  0.0  0.0  0.0  0.0  0.0  0.0  0.0  0.0\n",
      "5  0.0  0.0  0.0  0.0  0.0  0.0  0.0  0.0  0.0  1.0  1.0  0.0  0.0\n",
      "0  0.0  0.0  0.0  0.0  0.0  0.0  0.0  1.0  1.0  0.0  0.0  0.0  0.0\n",
      "1  0.0  0.0  0.0  0.0  0.0  0.0  0.0  0.0  0.0  0.0  0.0  0.0  0.0\n",
      "2  0.0  0.0  0.0  0.0  0.0  0.0  0.0  0.0  0.0  0.0  0.0  1.0  0.0\n",
      "3  0.0  0.0  0.0  0.0  0.0  0.0  0.0  0.0  0.0  0.0  0.0  1.0  0.0\n",
      "4  0.0  0.0  0.0  0.0  0.0  0.0  1.0  0.0  0.0  0.0  0.0  1.0  0.0\n",
      "5  0.0  0.0  0.0  0.0  0.0  0.0  0.0  0.0  0.0  0.0  0.0  0.0  0.0\n",
      "0  0.0  0.0  0.0  0.0  0.0  0.0  0.0  0.0  0.0  0.0  0.0  0.0  0.0\n",
      "1  0.0  0.0  0.0  0.0  0.0  0.0  0.0  0.0  0.0  0.0  1.0  0.0  0.0\n",
      "2  0.0  0.0  0.0  0.0  0.0  1.0  0.0  1.0  0.0  1.0  0.0  0.0  0.0\n",
      "3  0.0  0.0  0.0  0.0  0.0  0.0  0.0  0.0  0.0  0.0  0.0  0.0  0.0\n",
      "4  0.0  0.0  0.0  0.0  0.0  0.0  0.0  0.0  0.0  0.0  0.0  0.0  0.0\n",
      "5  0.0  0.0  0.0  1.0  1.0  1.0  1.0  1.0  0.0  0.0  0.0  0.0  0.0\n",
      "0  0.0  0.0  0.0  0.0  0.0  0.0  0.0  0.0  0.0  0.0  0.0  0.0  0.0\n",
      "1  0.0  0.0  0.0  0.0  0.0  0.0  0.0  0.0  0.0  0.0  0.0  0.0  0.0\n",
      "2  1.0  1.0  0.0  0.0  0.0  0.0  0.0  0.0  0.0  0.0  0.0  0.0  0.0\n",
      "3  0.0  0.0  1.0  1.0  1.0  0.0  0.0  0.0  0.0  0.0  0.0  0.0  0.0\n",
      "4  0.0  0.0  0.0  0.0  0.0  0.0  0.0  0.0  0.0  0.0  0.0  0.0  0.0\n",
      "5  0.0  0.0  0.0  0.0  0.0  0.0  0.0  0.0  0.0  0.0  0.0  0.0  0.0\n"
     ]
    }
   ],
   "source": [
    "np_array = np.zeros((nb_projects, nb_resources, total_time_slots))\n",
    "\n",
    "# Populate the array with the values of the decision variables\n",
    "for p in range(nb_projects):\n",
    "    for r in range(nb_resources):\n",
    "        for t in range(total_time_slots):\n",
    "            if(X[(p, r, t)].x == 1.0):\n",
    "                np_array[p, r, t] = 1\n",
    "\n",
    "# cut the extra slot that are not used\n",
    "max_time_slot = int(Y.x)\n",
    "\n",
    "sliced_array = np_array[:, :, :max_time_slot+1]\n",
    "\n",
    "reshaped_array = sliced_array.reshape(nb_projects * nb_resources, max_time_slot+1)\n",
    "\n",
    "df = pd.DataFrame(reshaped_array)\n",
    "df.index = [i for i in range(nb_resources)]*nb_projects # define the lef header\n",
    "\n",
    "print(df)"
   ],
   "metadata": {
    "collapsed": false,
    "ExecuteTime": {
     "end_time": "2024-01-18T09:30:03.336456502Z",
     "start_time": "2024-01-18T09:30:03.229059620Z"
    }
   },
   "id": "2cdb6fe54818e95e",
   "execution_count": 14
  },
  {
   "cell_type": "code",
   "outputs": [
    {
     "data": {
      "text/plain": "<Figure size 2880x2880 with 1 Axes>",
      "image/png": "[encoded data removed]"
     },
     "metadata": {
      "needs_background": "light"
     },
     "output_type": "display_data"
    }
   ],
   "source": [
    "import seaborn as sns\n",
    "import matplotlib.pyplot as plt\n",
    "\n",
    "# Create a heatmap\n",
    "plt.figure(figsize=(40, 40))  # Adjust the size as needed\n",
    "# Add lines for separation\n",
    "sns.heatmap(df, annot=True, cmap='coolwarm', fmt='g', cbar=False)\n",
    "group_end_indices = [nb_resources+i*nb_resources for i in range(nb_projects)]\n",
    "for index in group_end_indices:\n",
    "    plt.axhline(y=index, color='black', linewidth=2)\n",
    "\n",
    "# Adding titles and labels for clarity\n",
    "plt.title('Allocation')\n",
    "plt.xlabel('Time Slots')\n",
    "plt.ylabel('Projects')\n",
    "\n",
    "plt.show()"
   ],
   "metadata": {
    "collapsed": false,
    "ExecuteTime": {
     "end_time": "2024-01-18T09:30:10.647666432Z",
     "start_time": "2024-01-18T09:30:07.320368182Z"
    }
   },
   "id": "cd38e39f703fd6d5",
   "execution_count": 15
  },
  {
   "cell_type": "code",
   "outputs": [],
   "source": [],
   "metadata": {
    "collapsed": false
   },
   "id": "f4a9d6ef100082a9"
  }
 ],
 "metadata": {
  "kernelspec": {
   "display_name": "Python 3",
   "language": "python",
   "name": "python3"
  },
  "language_info": {
   "codemirror_mode": {
    "name": "ipython",
    "version": 2
   },
   "file_extension": ".py",
   "mimetype": "text/x-python",
   "name": "python",
   "nbconvert_exporter": "python",
   "pygments_lexer": "ipython2",
   "version": "2.7.6"
  }
 },
 "nbformat": 4,
 "nbformat_minor": 5
}
