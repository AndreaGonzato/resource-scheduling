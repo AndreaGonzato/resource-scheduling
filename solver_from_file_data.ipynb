{
 "cells": [
  {
   "cell_type": "code",
   "execution_count": 1,
   "id": "initial_id",
   "metadata": {
    "collapsed": true,
    "ExecuteTime": {
     "end_time": "2024-01-18T14:11:07.312744246Z",
     "start_time": "2024-01-18T14:11:07.266308282Z"
    }
   },
   "outputs": [],
   "source": [
    "import gurobipy as gb\n",
    "import pandas as pd\n",
    "import numpy as np\n",
    "\n",
    "#from data_generator import *\n",
    "from extractor import extract_problem_data"
   ]
  },
  {
   "cell_type": "code",
   "outputs": [],
   "source": [
    "days, slots_per_day, nb_resources, nb_projects, resources, projects = extract_problem_data(filename=\"problems/instance_1.txt\")"
   ],
   "metadata": {
    "collapsed": false,
    "ExecuteTime": {
     "end_time": "2024-01-18T14:11:08.929511273Z",
     "start_time": "2024-01-18T14:11:08.916813779Z"
    }
   },
   "id": "e64d40485d8a21a3",
   "execution_count": 2
  },
  {
   "cell_type": "code",
   "outputs": [
    {
     "name": "stdout",
     "output_type": "stream",
     "text": [
      "max_total_allocation 150\n"
     ]
    }
   ],
   "source": [
    "squash_factor= 1 # value that indicate how much to squash the planning of the project. It need to be >= 1\n",
    "\n",
    "# calculated data\n",
    "total_time_slots = days * slots_per_day\n",
    "BIG_M = max(2*total_time_slots, 99)\n",
    "max_total_allocation = total_time_slots * nb_resources  # calculate max allocation\n",
    "print(\"max_total_allocation\", max_total_allocation)"
   ],
   "metadata": {
    "collapsed": false,
    "ExecuteTime": {
     "end_time": "2024-01-18T14:11:09.574867419Z",
     "start_time": "2024-01-18T14:11:09.569638626Z"
    }
   },
   "id": "9b09d5e624cf59e4",
   "execution_count": 3
  },
  {
   "cell_type": "code",
   "outputs": [
    {
     "name": "stdout",
     "output_type": "stream",
     "text": [
      "Set parameter Username\n",
      "Academic license - for non-commercial use only - expires 2025-01-10\n"
     ]
    }
   ],
   "source": [
    "env = gb.Env(empty=True)\n",
    "env.setParam(\"OutputFlag\", 0)\n",
    "env.start()\n",
    "\n",
    "model = gb.Model()\n",
    "\n",
    "model.modelSense = gb.GRB.MINIMIZE  #declare minimization"
   ],
   "metadata": {
    "collapsed": false,
    "ExecuteTime": {
     "end_time": "2024-01-18T14:11:10.791968517Z",
     "start_time": "2024-01-18T14:11:10.770961859Z"
    }
   },
   "id": "fdd91ea4d7d41fbf",
   "execution_count": 4
  },
  {
   "cell_type": "code",
   "outputs": [],
   "source": [
    "# variables definition\n",
    "\n",
    "X = {}\n",
    "for p in range(nb_projects):\n",
    "    for r in range(nb_resources):\n",
    "        for t in range(total_time_slots):\n",
    "            X[(p, r, t)] = model.addVar(vtype=gb.GRB.BINARY, name=f\"X_p{p}_r{r}_t{t}\")\n",
    "S = {}\n",
    "F = {}\n",
    "for p in range(nb_projects):\n",
    "    S[(p)] = model.addVar(vtype=gb.GRB.INTEGER, lb=0, ub=total_time_slots, name=f\"S_p{p}\")\n",
    "    F[(p)] = model.addVar(vtype=gb.GRB.INTEGER, lb=0, ub=total_time_slots, name=f\"F_p{p}\")\n",
    "\n",
    "\n",
    "Y = model.addVar(vtype=gb.GRB.INTEGER, lb=0, ub=total_time_slots, name=f\"Y\")\n",
    "\n",
    "for v in model.getVars():\n",
    "    print(v.varName)"
   ],
   "metadata": {
    "collapsed": false,
    "ExecuteTime": {
     "end_time": "2024-01-18T14:11:11.838582985Z",
     "start_time": "2024-01-18T14:11:11.808699600Z"
    }
   },
   "id": "1c2cbbf88826a078",
   "execution_count": 5
  },
  {
   "cell_type": "code",
   "outputs": [],
   "source": [
    "# constraint 1\n",
    "# Define constraint: Total working time for each project respect the request\n",
    "for p in range(nb_projects):\n",
    "    model.addConstr(sum(X[(p, r, t)] for r in range(nb_resources) for t in range(total_time_slots)) == projects[p].requested_slots)\n",
    "\n",
    "# constraint 2\n",
    "for p in range(nb_projects):\n",
    "    for r in range(nb_resources):\n",
    "        for t in range(total_time_slots):\n",
    "            model.addConstr(t * X[(p, r, t)] <= F[p])\n",
    "\n",
    "# constraint 3\n",
    "for p in range(nb_projects):\n",
    "    for r in range(nb_resources):\n",
    "        for t in range(total_time_slots):\n",
    "            model.addConstr(S[p] <= t*X[(p, r, t)]+(1-X[(p, r, t)])*BIG_M)\n",
    "\n",
    "# constraint 4\n",
    "# constraint assign lower bound of y\n",
    "for p in range(nb_projects):\n",
    "    model.addConstr(F[p] <= Y)\n",
    "\n",
    "# constraint 5\n",
    "for p in range(nb_projects):\n",
    "    model.addConstr(F[p]-S[p]+1 <= projects[p].requested_slots*squash_factor)\n",
    "\n",
    "# constraint 6\n",
    "# constraints no double booking\n",
    "for r in range(nb_resources):\n",
    "    for t in range(total_time_slots):\n",
    "        model.addConstr(sum(X[(p, r, t)] for p in range(nb_projects)) <= 1)\n",
    "\n",
    "# constraint 7\n",
    "# on each project only some resources can work on it\n",
    "for project in projects:\n",
    "    for resource in resources:\n",
    "        if(not project.is_resource_assigned(resource)):\n",
    "            for t in range(total_time_slots):\n",
    "                model.addConstr(X[project.id, resource.id, t] == 0)\n",
    "                \n",
    "# constraint 8\n",
    "# each task are planned to do not start before some specific time\n",
    "for p in range(nb_projects):\n",
    "    model.addConstr(S[p] >= projects[p].start_time)\n",
    "    \n",
    "# constraint 9\n",
    "# each task are planned to do not finish after some specific time\n",
    "for p in range(nb_projects):\n",
    "    model.addConstr(F[p] <= projects[p].end_time)\n",
    "\n",
    "    "
   ],
   "metadata": {
    "collapsed": false,
    "ExecuteTime": {
     "end_time": "2024-01-18T14:11:12.836172294Z",
     "start_time": "2024-01-18T14:11:12.743205765Z"
    }
   },
   "id": "e40930cd5c5e5859",
   "execution_count": 6
  },
  {
   "cell_type": "code",
   "outputs": [],
   "source": [
    "model.setObjective(Y, gb.GRB.MINIMIZE)"
   ],
   "metadata": {
    "collapsed": false,
    "ExecuteTime": {
     "end_time": "2024-01-18T14:11:13.596468805Z",
     "start_time": "2024-01-18T14:11:13.565759725Z"
    }
   },
   "id": "33b4595327135912",
   "execution_count": 7
  },
  {
   "cell_type": "code",
   "outputs": [
    {
     "name": "stdout",
     "output_type": "stream",
     "text": [
      "Variables:  0\n",
      "Constraints:  0\n"
     ]
    }
   ],
   "source": [
    "print(\"Variables: \",model.NumVars)\n",
    "print(\"Constraints: \",model.NumConstrs)"
   ],
   "metadata": {
    "collapsed": false,
    "ExecuteTime": {
     "end_time": "2024-01-18T14:11:14.572099870Z",
     "start_time": "2024-01-18T14:11:14.561130678Z"
    }
   },
   "id": "1656b294b8227ddc",
   "execution_count": 8
  },
  {
   "cell_type": "code",
   "outputs": [
    {
     "name": "stdout",
     "output_type": "stream",
     "text": [
      "Gurobi Optimizer version 11.0.0 build v11.0.0rc2 (linux64 - \"Ubuntu 22.04.3 LTS\")\n",
      "\n",
      "CPU model: Intel(R) Core(TM) i7-7500U CPU @ 2.70GHz, instruction set [SSE2|AVX|AVX2]\n",
      "Thread count: 2 physical cores, 4 logical processors, using up to 4 threads\n",
      "\n",
      "Optimize a model with 3280 rows, 1217 columns and 7898 nonzeros\n",
      "Model fingerprint: 0x207d39c7\n",
      "Variable types: 0 continuous, 1217 integer (1200 binary)\n",
      "Coefficient statistics:\n",
      "  Matrix range     [1e+00, 1e+02]\n",
      "  Objective range  [1e+00, 1e+00]\n",
      "  Bounds range     [1e+00, 3e+01]\n",
      "  RHS range        [1e+00, 1e+02]\n",
      "Presolve removed 2788 rows and 917 columns\n",
      "Presolve time: 0.02s\n",
      "Presolved: 492 rows, 300 columns, 1338 nonzeros\n",
      "Variable types: 0 continuous, 300 integer (283 binary)\n",
      "\n",
      "Root relaxation: objective 6.447384e+00, 312 iterations, 0.00 seconds (0.00 work units)\n",
      "\n",
      "    Nodes    |    Current Node    |     Objective Bounds      |     Work\n",
      " Expl Unexpl |  Obj  Depth IntInf | Incumbent    BestBd   Gap | It/Node Time\n",
      "\n",
      "     0     0    6.44738    0  150          -    6.44738      -     -    0s\n",
      "H    0     0                      23.0000000    6.44738  72.0%     -    0s\n",
      "H    0     0                      22.0000000    6.44738  70.7%     -    0s\n",
      "     0     0   14.00000    0   93   22.00000   14.00000  36.4%     -    0s\n",
      "     0     0   14.00000    0   75   22.00000   14.00000  36.4%     -    0s\n",
      "     0     0   14.47837    0   93   22.00000   14.47837  34.2%     -    0s\n",
      "H    0     0                      21.0000000   15.00000  28.6%     -    0s\n",
      "     0     0   15.00000    0   96   21.00000   15.00000  28.6%     -    0s\n",
      "     0     0   15.00000    0  111   21.00000   15.00000  28.6%     -    0s\n",
      "     0     0   15.00000    0  111   21.00000   15.00000  28.6%     -    0s\n",
      "     0     0   15.00000    0  114   21.00000   15.00000  28.6%     -    0s\n",
      "     0     0   16.95520    0   84   21.00000   16.95520  19.3%     -    0s\n",
      "H    0     0                      20.0000000   16.95520  15.2%     -    0s\n",
      "     0     0   16.95520    0   67   20.00000   16.95520  15.2%     -    0s\n",
      "     0     0   17.89474    0   66   20.00000   17.89474  10.5%     -    0s\n",
      "     0     0   18.00000    0    9   20.00000   18.00000  10.0%     -    0s\n",
      "H    0     0                      19.0000000   18.00000  5.26%     -    0s\n",
      "     0     0   18.00000    0    9   19.00000   18.00000  5.26%     -    0s\n",
      "\n",
      "Cutting planes:\n",
      "  Learned: 54\n",
      "  Implied bound: 1\n",
      "  Clique: 2\n",
      "  MIR: 10\n",
      "  StrongCG: 1\n",
      "  Zero half: 1\n",
      "  RLT: 3\n",
      "  Relax-and-lift: 7\n",
      "\n",
      "Explored 1 nodes (1960 simplex iterations) in 0.29 seconds (0.07 work units)\n",
      "Thread count was 4 (of 4 available processors)\n",
      "\n",
      "Solution count 5: 19 20 21 ... 23\n",
      "\n",
      "Optimal solution found (tolerance 1.00e-04)\n",
      "Best objective 1.900000000000e+01, best bound 1.900000000000e+01, gap 0.0000%\n"
     ]
    }
   ],
   "source": [
    "model.optimize()"
   ],
   "metadata": {
    "collapsed": false,
    "ExecuteTime": {
     "end_time": "2024-01-18T14:11:15.725683004Z",
     "start_time": "2024-01-18T14:11:15.370854945Z"
    }
   },
   "id": "dd40e0f420557548",
   "execution_count": 9
  },
  {
   "cell_type": "code",
   "outputs": [
    {
     "name": "stdout",
     "output_type": "stream",
     "text": [
      "project 0 : S 1.0  F: 14.0\n",
      "project 1 : S 5.0  F: 14.0\n",
      "project 2 : S 13.0  F: 19.0\n",
      "project 3 : S 14.0  F: 18.0\n",
      "project 4 : S 1.0  F: 11.0\n",
      "project 5 : S 7.0  F: 16.0\n",
      "project 6 : S 10.0  F: 19.0\n",
      "project 7 : S 2.0  F: 12.0\n",
      "Y = 19.0\n",
      "project:  0 resource: 1  time: 1\n",
      "project:  0 resource: 1  time: 2\n",
      "project:  0 resource: 1  time: 3\n",
      "project:  0 resource: 1  time: 4\n",
      "project:  0 resource: 1  time: 5\n",
      "project:  0 resource: 1  time: 6\n",
      "project:  0 resource: 1  time: 7\n",
      "project:  0 resource: 1  time: 8\n",
      "project:  0 resource: 1  time: 9\n",
      "project:  0 resource: 1  time: 10\n",
      "project:  0 resource: 1  time: 11\n",
      "project:  0 resource: 1  time: 12\n",
      "project:  0 resource: 1  time: 13\n",
      "project:  0 resource: 1  time: 14\n",
      "project:  1 resource: 0  time: 12\n",
      "project:  1 resource: 0  time: 13\n",
      "project:  1 resource: 4  time: 5\n",
      "project:  1 resource: 4  time: 6\n",
      "project:  1 resource: 4  time: 7\n",
      "project:  1 resource: 4  time: 8\n",
      "project:  1 resource: 4  time: 9\n",
      "project:  1 resource: 4  time: 10\n",
      "project:  1 resource: 4  time: 11\n",
      "project:  1 resource: 4  time: 12\n",
      "project:  2 resource: 1  time: 15\n",
      "project:  2 resource: 1  time: 18\n",
      "project:  2 resource: 2  time: 17\n",
      "project:  2 resource: 2  time: 18\n",
      "project:  2 resource: 4  time: 13\n",
      "project:  2 resource: 4  time: 14\n",
      "project:  2 resource: 4  time: 15\n",
      "project:  2 resource: 4  time: 16\n",
      "project:  2 resource: 4  time: 17\n",
      "project:  2 resource: 4  time: 18\n",
      "project:  3 resource: 0  time: 14\n",
      "project:  3 resource: 0  time: 15\n",
      "project:  3 resource: 0  time: 16\n",
      "project:  3 resource: 0  time: 17\n",
      "project:  3 resource: 0  time: 18\n",
      "project:  4 resource: 0  time: 1\n",
      "project:  4 resource: 0  time: 2\n",
      "project:  4 resource: 0  time: 3\n",
      "project:  4 resource: 0  time: 4\n",
      "project:  4 resource: 0  time: 5\n",
      "project:  4 resource: 0  time: 6\n",
      "project:  4 resource: 0  time: 7\n",
      "project:  4 resource: 0  time: 8\n",
      "project:  4 resource: 0  time: 9\n",
      "project:  4 resource: 0  time: 10\n",
      "project:  4 resource: 0  time: 11\n",
      "project:  5 resource: 1  time: 16\n",
      "project:  5 resource: 2  time: 7\n",
      "project:  5 resource: 2  time: 8\n",
      "project:  5 resource: 2  time: 9\n",
      "project:  5 resource: 2  time: 10\n",
      "project:  5 resource: 2  time: 11\n",
      "project:  5 resource: 2  time: 12\n",
      "project:  5 resource: 2  time: 13\n",
      "project:  5 resource: 2  time: 14\n",
      "project:  5 resource: 2  time: 15\n",
      "project:  6 resource: 1  time: 17\n",
      "project:  6 resource: 1  time: 19\n",
      "project:  6 resource: 2  time: 16\n",
      "project:  6 resource: 2  time: 19\n",
      "project:  6 resource: 3  time: 13\n",
      "project:  6 resource: 3  time: 14\n",
      "project:  6 resource: 3  time: 15\n",
      "project:  6 resource: 3  time: 16\n",
      "project:  6 resource: 3  time: 17\n",
      "project:  6 resource: 3  time: 19\n",
      "project:  7 resource: 3  time: 2\n",
      "project:  7 resource: 3  time: 3\n",
      "project:  7 resource: 3  time: 4\n",
      "project:  7 resource: 3  time: 5\n",
      "project:  7 resource: 3  time: 6\n",
      "project:  7 resource: 3  time: 7\n",
      "project:  7 resource: 3  time: 8\n",
      "project:  7 resource: 3  time: 9\n",
      "project:  7 resource: 3  time: 10\n",
      "project:  7 resource: 3  time: 11\n",
      "project:  7 resource: 3  time: 12\n"
     ]
    }
   ],
   "source": [
    "for p in range(nb_projects):\n",
    "    print(f\"project {p} : S\", S[p].x, \" F:\",F[p].x)\n",
    "\n",
    "print('Y =', Y.x)\n",
    "\n",
    "\n",
    "# show all the assignation\n",
    "for p in range(nb_projects):\n",
    "    for r in range(nb_resources):\n",
    "        for t in range(total_time_slots):\n",
    "            if(X[(p, r, t)].x == 1.0):\n",
    "                print(\"project: \", p, \"resource:\", r, \" time:\",t)"
   ],
   "metadata": {
    "collapsed": false,
    "ExecuteTime": {
     "end_time": "2024-01-18T14:33:50.767170572Z",
     "start_time": "2024-01-18T14:33:50.691351139Z"
    }
   },
   "id": "49a5d6473d4dbd5f",
   "execution_count": 13
  },
  {
   "cell_type": "code",
   "outputs": [
    {
     "name": "stdout",
     "output_type": "stream",
     "text": [
      "    0    1    2    3    4    5    6    7    8    9    10   11   12   13   14  \\\n",
      "0  0.0  0.0  0.0  0.0  0.0  0.0  0.0  0.0  0.0  0.0  0.0  0.0  0.0  0.0  0.0   \n",
      "1  0.0  1.0  1.0  1.0  1.0  1.0  1.0  1.0  1.0  1.0  1.0  1.0  1.0  1.0  1.0   \n",
      "2  0.0  0.0  0.0  0.0  0.0  0.0  0.0  0.0  0.0  0.0  0.0  0.0  0.0  0.0  0.0   \n",
      "3  0.0  0.0  0.0  0.0  0.0  0.0  0.0  0.0  0.0  0.0  0.0  0.0  0.0  0.0  0.0   \n",
      "4  0.0  0.0  0.0  0.0  0.0  0.0  0.0  0.0  0.0  0.0  0.0  0.0  0.0  0.0  0.0   \n",
      "0  0.0  0.0  0.0  0.0  0.0  0.0  0.0  0.0  0.0  0.0  0.0  0.0  1.0  1.0  0.0   \n",
      "1  0.0  0.0  0.0  0.0  0.0  0.0  0.0  0.0  0.0  0.0  0.0  0.0  0.0  0.0  0.0   \n",
      "2  0.0  0.0  0.0  0.0  0.0  0.0  0.0  0.0  0.0  0.0  0.0  0.0  0.0  0.0  0.0   \n",
      "3  0.0  0.0  0.0  0.0  0.0  0.0  0.0  0.0  0.0  0.0  0.0  0.0  0.0  0.0  0.0   \n",
      "4  0.0  0.0  0.0  0.0  0.0  1.0  1.0  1.0  1.0  1.0  1.0  1.0  1.0  0.0  0.0   \n",
      "0  0.0  0.0  0.0  0.0  0.0  0.0  0.0  0.0  0.0  0.0  0.0  0.0  0.0  0.0  0.0   \n",
      "1  0.0  0.0  0.0  0.0  0.0  0.0  0.0  0.0  0.0  0.0  0.0  0.0  0.0  0.0  0.0   \n",
      "2  0.0  0.0  0.0  0.0  0.0  0.0  0.0  0.0  0.0  0.0  0.0  0.0  0.0  0.0  0.0   \n",
      "3  0.0  0.0  0.0  0.0  0.0  0.0  0.0  0.0  0.0  0.0  0.0  0.0  0.0  0.0  0.0   \n",
      "4  0.0  0.0  0.0  0.0  0.0  0.0  0.0  0.0  0.0  0.0  0.0  0.0  0.0  1.0  1.0   \n",
      "0  0.0  0.0  0.0  0.0  0.0  0.0  0.0  0.0  0.0  0.0  0.0  0.0  0.0  0.0  1.0   \n",
      "1  0.0  0.0  0.0  0.0  0.0  0.0  0.0  0.0  0.0  0.0  0.0  0.0  0.0  0.0  0.0   \n",
      "2  0.0  0.0  0.0  0.0  0.0  0.0  0.0  0.0  0.0  0.0  0.0  0.0  0.0  0.0  0.0   \n",
      "3  0.0  0.0  0.0  0.0  0.0  0.0  0.0  0.0  0.0  0.0  0.0  0.0  0.0  0.0  0.0   \n",
      "4  0.0  0.0  0.0  0.0  0.0  0.0  0.0  0.0  0.0  0.0  0.0  0.0  0.0  0.0  0.0   \n",
      "0  0.0  1.0  1.0  1.0  1.0  1.0  1.0  1.0  1.0  1.0  1.0  1.0  0.0  0.0  0.0   \n",
      "1  0.0  0.0  0.0  0.0  0.0  0.0  0.0  0.0  0.0  0.0  0.0  0.0  0.0  0.0  0.0   \n",
      "2  0.0  0.0  0.0  0.0  0.0  0.0  0.0  0.0  0.0  0.0  0.0  0.0  0.0  0.0  0.0   \n",
      "3  0.0  0.0  0.0  0.0  0.0  0.0  0.0  0.0  0.0  0.0  0.0  0.0  0.0  0.0  0.0   \n",
      "4  0.0  0.0  0.0  0.0  0.0  0.0  0.0  0.0  0.0  0.0  0.0  0.0  0.0  0.0  0.0   \n",
      "0  0.0  0.0  0.0  0.0  0.0  0.0  0.0  0.0  0.0  0.0  0.0  0.0  0.0  0.0  0.0   \n",
      "1  0.0  0.0  0.0  0.0  0.0  0.0  0.0  0.0  0.0  0.0  0.0  0.0  0.0  0.0  0.0   \n",
      "2  0.0  0.0  0.0  0.0  0.0  0.0  0.0  1.0  1.0  1.0  1.0  1.0  1.0  1.0  1.0   \n",
      "3  0.0  0.0  0.0  0.0  0.0  0.0  0.0  0.0  0.0  0.0  0.0  0.0  0.0  0.0  0.0   \n",
      "4  0.0  0.0  0.0  0.0  0.0  0.0  0.0  0.0  0.0  0.0  0.0  0.0  0.0  0.0  0.0   \n",
      "0  0.0  0.0  0.0  0.0  0.0  0.0  0.0  0.0  0.0  0.0  0.0  0.0  0.0  0.0  0.0   \n",
      "1  0.0  0.0  0.0  0.0  0.0  0.0  0.0  0.0  0.0  0.0  0.0  0.0  0.0  0.0  0.0   \n",
      "2  0.0  0.0  0.0  0.0  0.0  0.0  0.0  0.0  0.0  0.0  0.0  0.0  0.0  0.0  0.0   \n",
      "3  0.0  0.0  0.0  0.0  0.0  0.0  0.0  0.0  0.0  0.0  0.0  0.0  0.0  1.0  1.0   \n",
      "4  0.0  0.0  0.0  0.0  0.0  0.0  0.0  0.0  0.0  0.0  0.0  0.0  0.0  0.0  0.0   \n",
      "0  0.0  0.0  0.0  0.0  0.0  0.0  0.0  0.0  0.0  0.0  0.0  0.0  0.0  0.0  0.0   \n",
      "1  0.0  0.0  0.0  0.0  0.0  0.0  0.0  0.0  0.0  0.0  0.0  0.0  0.0  0.0  0.0   \n",
      "2  0.0  0.0  0.0  0.0  0.0  0.0  0.0  0.0  0.0  0.0  0.0  0.0  0.0  0.0  0.0   \n",
      "3  0.0  0.0  1.0  1.0  1.0  1.0  1.0  1.0  1.0  1.0  1.0  1.0  1.0  0.0  0.0   \n",
      "4  0.0  0.0  0.0  0.0  0.0  0.0  0.0  0.0  0.0  0.0  0.0  0.0  0.0  0.0  0.0   \n",
      "\n",
      "    15   16   17   18   19  \n",
      "0  0.0  0.0  0.0  0.0  0.0  \n",
      "1  0.0  0.0  0.0  0.0  0.0  \n",
      "2  0.0  0.0  0.0  0.0  0.0  \n",
      "3  0.0  0.0  0.0  0.0  0.0  \n",
      "4  0.0  0.0  0.0  0.0  0.0  \n",
      "0  0.0  0.0  0.0  0.0  0.0  \n",
      "1  0.0  0.0  0.0  0.0  0.0  \n",
      "2  0.0  0.0  0.0  0.0  0.0  \n",
      "3  0.0  0.0  0.0  0.0  0.0  \n",
      "4  0.0  0.0  0.0  0.0  0.0  \n",
      "0  0.0  0.0  0.0  0.0  0.0  \n",
      "1  1.0  0.0  0.0  1.0  0.0  \n",
      "2  0.0  0.0  1.0  1.0  0.0  \n",
      "3  0.0  0.0  0.0  0.0  0.0  \n",
      "4  1.0  1.0  1.0  1.0  0.0  \n",
      "0  1.0  1.0  1.0  1.0  0.0  \n",
      "1  0.0  0.0  0.0  0.0  0.0  \n",
      "2  0.0  0.0  0.0  0.0  0.0  \n",
      "3  0.0  0.0  0.0  0.0  0.0  \n",
      "4  0.0  0.0  0.0  0.0  0.0  \n",
      "0  0.0  0.0  0.0  0.0  0.0  \n",
      "1  0.0  0.0  0.0  0.0  0.0  \n",
      "2  0.0  0.0  0.0  0.0  0.0  \n",
      "3  0.0  0.0  0.0  0.0  0.0  \n",
      "4  0.0  0.0  0.0  0.0  0.0  \n",
      "0  0.0  0.0  0.0  0.0  0.0  \n",
      "1  0.0  1.0  0.0  0.0  0.0  \n",
      "2  1.0  0.0  0.0  0.0  0.0  \n",
      "3  0.0  0.0  0.0  0.0  0.0  \n",
      "4  0.0  0.0  0.0  0.0  0.0  \n",
      "0  0.0  0.0  0.0  0.0  0.0  \n",
      "1  0.0  0.0  1.0  0.0  1.0  \n",
      "2  0.0  1.0  0.0  0.0  1.0  \n",
      "3  1.0  1.0  1.0  0.0  1.0  \n",
      "4  0.0  0.0  0.0  0.0  0.0  \n",
      "0  0.0  0.0  0.0  0.0  0.0  \n",
      "1  0.0  0.0  0.0  0.0  0.0  \n",
      "2  0.0  0.0  0.0  0.0  0.0  \n",
      "3  0.0  0.0  0.0  0.0  0.0  \n",
      "4  0.0  0.0  0.0  0.0  0.0  \n"
     ]
    }
   ],
   "source": [
    "np_array = np.zeros((nb_projects, nb_resources, total_time_slots))\n",
    "\n",
    "# Populate the array with the values of the decision variables\n",
    "for p in range(nb_projects):\n",
    "    for r in range(nb_resources):\n",
    "        for t in range(total_time_slots):\n",
    "            if(X[(p, r, t)].x == 1.0):\n",
    "                np_array[p, r, t] = 1\n",
    "\n",
    "# cut the extra slot that are not used\n",
    "max_time_slot = int(Y.x)\n",
    "\n",
    "sliced_array = np_array[:, :, :max_time_slot+1]\n",
    "\n",
    "reshaped_array = sliced_array.reshape(nb_projects * nb_resources, max_time_slot+1)\n",
    "\n",
    "df = pd.DataFrame(reshaped_array)\n",
    "df.index = [i for i in range(nb_resources)]*nb_projects # define the lef header\n",
    "\n",
    "print(df)"
   ],
   "metadata": {
    "collapsed": false,
    "ExecuteTime": {
     "end_time": "2024-01-18T14:11:17.753536521Z",
     "start_time": "2024-01-18T14:11:17.697133022Z"
    }
   },
   "id": "2cdb6fe54818e95e",
   "execution_count": 11
  },
  {
   "cell_type": "code",
   "outputs": [
    {
     "data": {
      "text/plain": "<Figure size 2880x2880 with 1 Axes>",
      "image/png": "[encoded data removed]"
     },
     "metadata": {
      "needs_background": "light"
     },
     "output_type": "display_data"
    }
   ],
   "source": [
    "import seaborn as sns\n",
    "import matplotlib.pyplot as plt\n",
    "\n",
    "# Create a heatmap\n",
    "plt.figure(figsize=(40, 40))  # Adjust the size as needed\n",
    "# Add lines for separation\n",
    "sns.heatmap(df, annot=True, cmap='coolwarm', fmt='g', cbar=False)\n",
    "group_end_indices = [nb_resources+i*nb_resources for i in range(nb_projects)]\n",
    "for index in group_end_indices:\n",
    "    plt.axhline(y=index, color='black', linewidth=2)\n",
    "\n",
    "# Adding titles and labels for clarity\n",
    "plt.title('Allocation')\n",
    "plt.xlabel('Time Slots')\n",
    "plt.ylabel('Projects')\n",
    "\n",
    "plt.show()"
   ],
   "metadata": {
    "collapsed": false,
    "ExecuteTime": {
     "end_time": "2024-01-18T14:11:20.902634739Z",
     "start_time": "2024-01-18T14:11:18.556295860Z"
    }
   },
   "id": "cd38e39f703fd6d5",
   "execution_count": 12
  },
  {
   "cell_type": "code",
   "outputs": [],
   "source": [],
   "metadata": {
    "collapsed": false
   },
   "id": "f4a9d6ef100082a9"
  }
 ],
 "metadata": {
  "kernelspec": {
   "display_name": "Python 3",
   "language": "python",
   "name": "python3"
  },
  "language_info": {
   "codemirror_mode": {
    "name": "ipython",
    "version": 2
   },
   "file_extension": ".py",
   "mimetype": "text/x-python",
   "name": "python",
   "nbconvert_exporter": "python",
   "pygments_lexer": "ipython2",
   "version": "2.7.6"
  }
 },
 "nbformat": 4,
 "nbformat_minor": 5
}
